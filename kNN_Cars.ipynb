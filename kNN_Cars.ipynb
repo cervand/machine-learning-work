{
 "cells": [
  {
   "cell_type": "markdown",
   "id": "f7957383",
   "metadata": {},
   "source": [
    "# Classfy CAR Value problem \n",
    "## Import the libraries that we will use"
   ]
  },
  {
   "cell_type": "code",
   "execution_count": 1,
   "id": "bb29ab69-9105-4de9-9484-aa2808d89625",
   "metadata": {
    "tags": []
   },
   "outputs": [],
   "source": [
    "import numpy as np\n",
    "import pandas as pd\n",
    "from itertools import product\n",
    "\n",
    "import matplotlib.pyplot as plt\n",
    "\n",
    "from sklearn.model_selection import train_test_split\n",
    "from sklearn.neighbors import KNeighborsClassifier\n",
    "\n",
    "from sklearn.metrics import accuracy_score"
   ]
  },
  {
   "cell_type": "markdown",
   "id": "ad944435",
   "metadata": {},
   "source": [
    "## Inspecting the data and prepare it"
   ]
  },
  {
   "cell_type": "markdown",
   "id": "d030ebab",
   "metadata": {},
   "source": [
    "The ﬁrst step in every data analysis experiment involves inspecting the data and to make sure it is properly formatted.\n",
    "You will ﬁnd that the features in the provided dataset are categorical.\n",
    "However, KNN requires the features to be real-valued numbers. To convert a categorical feature with K categories to a real-valued number, you can create K new binary features. \n",
    "The ith binary feature indicates whether the original feature belongs to the ith category or not.\n",
    "This strategy is called ‘one-hot encoding.’"
   ]
  },
  {
   "cell_type": "code",
   "execution_count": 2,
   "id": "5f9d0c3f-a65e-48c1-bb2c-eff0ec9e17b4",
   "metadata": {},
   "outputs": [
    {
     "data": {
      "text/html": [
       "<div>\n",
       "<style scoped>\n",
       "    .dataframe tbody tr th:only-of-type {\n",
       "        vertical-align: middle;\n",
       "    }\n",
       "\n",
       "    .dataframe tbody tr th {\n",
       "        vertical-align: top;\n",
       "    }\n",
       "\n",
       "    .dataframe thead th {\n",
       "        text-align: right;\n",
       "    }\n",
       "</style>\n",
       "<table border=\"1\" class=\"dataframe\">\n",
       "  <thead>\n",
       "    <tr style=\"text-align: right;\">\n",
       "      <th></th>\n",
       "      <th>buying</th>\n",
       "      <th>maint</th>\n",
       "      <th>doors</th>\n",
       "      <th>persons</th>\n",
       "      <th>lug_boot</th>\n",
       "      <th>safety</th>\n",
       "      <th>target</th>\n",
       "    </tr>\n",
       "  </thead>\n",
       "  <tbody>\n",
       "    <tr>\n",
       "      <th>0</th>\n",
       "      <td>vhigh</td>\n",
       "      <td>vhigh</td>\n",
       "      <td>2</td>\n",
       "      <td>2</td>\n",
       "      <td>small</td>\n",
       "      <td>low</td>\n",
       "      <td>unacc</td>\n",
       "    </tr>\n",
       "    <tr>\n",
       "      <th>1</th>\n",
       "      <td>vhigh</td>\n",
       "      <td>vhigh</td>\n",
       "      <td>2</td>\n",
       "      <td>2</td>\n",
       "      <td>small</td>\n",
       "      <td>med</td>\n",
       "      <td>unacc</td>\n",
       "    </tr>\n",
       "    <tr>\n",
       "      <th>2</th>\n",
       "      <td>vhigh</td>\n",
       "      <td>vhigh</td>\n",
       "      <td>2</td>\n",
       "      <td>2</td>\n",
       "      <td>small</td>\n",
       "      <td>high</td>\n",
       "      <td>unacc</td>\n",
       "    </tr>\n",
       "    <tr>\n",
       "      <th>3</th>\n",
       "      <td>vhigh</td>\n",
       "      <td>vhigh</td>\n",
       "      <td>2</td>\n",
       "      <td>2</td>\n",
       "      <td>med</td>\n",
       "      <td>low</td>\n",
       "      <td>unacc</td>\n",
       "    </tr>\n",
       "    <tr>\n",
       "      <th>4</th>\n",
       "      <td>vhigh</td>\n",
       "      <td>vhigh</td>\n",
       "      <td>2</td>\n",
       "      <td>2</td>\n",
       "      <td>med</td>\n",
       "      <td>med</td>\n",
       "      <td>unacc</td>\n",
       "    </tr>\n",
       "  </tbody>\n",
       "</table>\n",
       "</div>"
      ],
      "text/plain": [
       "  buying  maint doors persons lug_boot safety target\n",
       "0  vhigh  vhigh     2       2    small    low  unacc\n",
       "1  vhigh  vhigh     2       2    small    med  unacc\n",
       "2  vhigh  vhigh     2       2    small   high  unacc\n",
       "3  vhigh  vhigh     2       2      med    low  unacc\n",
       "4  vhigh  vhigh     2       2      med    med  unacc"
      ]
     },
     "execution_count": 2,
     "metadata": {},
     "output_type": "execute_result"
    }
   ],
   "source": [
    "# We will use pandas library to work work with this dataset \n",
    "# Define the headers since the data does not have any\n",
    "headers = [\"buying\", \"maint\", \"doors\", \"persons\", \"lug_boot\",\"safety\",\"target\"]\n",
    "\n",
    "# Load the data as pandas dataframe\n",
    "car_df = pd.read_csv(\"data/caroriginal.data\",\n",
    "                  header=None, names=headers )\n",
    "\n",
    "car_df.head() # print some of the begining of the file"
   ]
  },
  {
   "cell_type": "code",
   "execution_count": 3,
   "id": "9ff4affd",
   "metadata": {},
   "outputs": [
    {
     "data": {
      "text/html": [
       "<div>\n",
       "<style scoped>\n",
       "    .dataframe tbody tr th:only-of-type {\n",
       "        vertical-align: middle;\n",
       "    }\n",
       "\n",
       "    .dataframe tbody tr th {\n",
       "        vertical-align: top;\n",
       "    }\n",
       "\n",
       "    .dataframe thead th {\n",
       "        text-align: right;\n",
       "    }\n",
       "</style>\n",
       "<table border=\"1\" class=\"dataframe\">\n",
       "  <thead>\n",
       "    <tr style=\"text-align: right;\">\n",
       "      <th></th>\n",
       "      <th>buying</th>\n",
       "      <th>maint</th>\n",
       "      <th>doors</th>\n",
       "      <th>persons</th>\n",
       "      <th>lug_boot</th>\n",
       "      <th>safety</th>\n",
       "      <th>target</th>\n",
       "    </tr>\n",
       "  </thead>\n",
       "  <tbody>\n",
       "  </tbody>\n",
       "</table>\n",
       "</div>"
      ],
      "text/plain": [
       "Empty DataFrame\n",
       "Columns: [buying, maint, doors, persons, lug_boot, safety, target]\n",
       "Index: []"
      ]
     },
     "execution_count": 3,
     "metadata": {},
     "output_type": "execute_result"
    }
   ],
   "source": [
    "car_df[car_df.isnull().any(axis=1)] # Check if there is any null value in the data"
   ]
  },
  {
   "cell_type": "code",
   "execution_count": 4,
   "id": "9ccd2138",
   "metadata": {},
   "outputs": [
    {
     "data": {
      "text/plain": [
       "buying      object\n",
       "maint       object\n",
       "doors       object\n",
       "persons     object\n",
       "lug_boot    object\n",
       "safety      object\n",
       "target      object\n",
       "dtype: object"
      ]
     },
     "execution_count": 4,
     "metadata": {},
     "output_type": "execute_result"
    }
   ],
   "source": [
    "car_df.dtypes  # check the types of the data "
   ]
  },
  {
   "cell_type": "code",
   "execution_count": 5,
   "id": "bcc0296a",
   "metadata": {},
   "outputs": [],
   "source": [
    "# Check the values in each category and convert to one-hot encoding using pandas method \"get_dummies\"\n",
    "car_df[\"buying\"].value_counts()\n",
    "car_df = pd.get_dummies(car_df, columns=[\"buying\"])"
   ]
  },
  {
   "cell_type": "code",
   "execution_count": 6,
   "id": "d2bdc43c",
   "metadata": {},
   "outputs": [],
   "source": [
    "car_df[\"maint\"].value_counts()\n",
    "car_df = pd.get_dummies(car_df, columns=[\"maint\"])"
   ]
  },
  {
   "cell_type": "code",
   "execution_count": 7,
   "id": "7e6b365e",
   "metadata": {},
   "outputs": [],
   "source": [
    "car_df[\"doors\"].value_counts()\n",
    "car_df = pd.get_dummies(car_df, columns=[\"doors\"])"
   ]
  },
  {
   "cell_type": "code",
   "execution_count": 8,
   "id": "9ed64a4e",
   "metadata": {},
   "outputs": [],
   "source": [
    "car_df[\"persons\"].value_counts()\n",
    "car_df = pd.get_dummies(car_df, columns=[\"persons\"])"
   ]
  },
  {
   "cell_type": "code",
   "execution_count": 9,
   "id": "9d3aa727",
   "metadata": {},
   "outputs": [],
   "source": [
    "car_df[\"lug_boot\"].value_counts()\n",
    "car_df = pd.get_dummies(car_df, columns=[\"lug_boot\"])"
   ]
  },
  {
   "cell_type": "code",
   "execution_count": 10,
   "id": "8dc4f33b",
   "metadata": {},
   "outputs": [],
   "source": [
    "car_df[\"safety\"].value_counts()\n",
    "car_df = pd.get_dummies(car_df, columns=[\"safety\"])"
   ]
  },
  {
   "cell_type": "code",
   "execution_count": 11,
   "id": "4a5f0a08",
   "metadata": {},
   "outputs": [
    {
     "data": {
      "text/plain": [
       "unacc    1210\n",
       "acc       384\n",
       "good       69\n",
       "vgood      65\n",
       "Name: target, dtype: int64"
      ]
     },
     "execution_count": 11,
     "metadata": {},
     "output_type": "execute_result"
    }
   ],
   "source": [
    "car_df[\"target\"].value_counts() # Check the target categories "
   ]
  },
  {
   "cell_type": "code",
   "execution_count": 12,
   "id": "f7d84677-1f16-4410-8c9d-deb2b20db358",
   "metadata": {},
   "outputs": [
    {
     "data": {
      "text/html": [
       "<div>\n",
       "<style scoped>\n",
       "    .dataframe tbody tr th:only-of-type {\n",
       "        vertical-align: middle;\n",
       "    }\n",
       "\n",
       "    .dataframe tbody tr th {\n",
       "        vertical-align: top;\n",
       "    }\n",
       "\n",
       "    .dataframe thead th {\n",
       "        text-align: right;\n",
       "    }\n",
       "</style>\n",
       "<table border=\"1\" class=\"dataframe\">\n",
       "  <thead>\n",
       "    <tr style=\"text-align: right;\">\n",
       "      <th></th>\n",
       "      <th>target</th>\n",
       "      <th>buying_high</th>\n",
       "      <th>buying_low</th>\n",
       "      <th>buying_med</th>\n",
       "      <th>buying_vhigh</th>\n",
       "      <th>maint_high</th>\n",
       "      <th>maint_low</th>\n",
       "      <th>maint_med</th>\n",
       "      <th>maint_vhigh</th>\n",
       "      <th>doors_2</th>\n",
       "      <th>...</th>\n",
       "      <th>doors_5more</th>\n",
       "      <th>persons_2</th>\n",
       "      <th>persons_4</th>\n",
       "      <th>persons_more</th>\n",
       "      <th>lug_boot_big</th>\n",
       "      <th>lug_boot_med</th>\n",
       "      <th>lug_boot_small</th>\n",
       "      <th>safety_high</th>\n",
       "      <th>safety_low</th>\n",
       "      <th>safety_med</th>\n",
       "    </tr>\n",
       "  </thead>\n",
       "  <tbody>\n",
       "    <tr>\n",
       "      <th>0</th>\n",
       "      <td>0</td>\n",
       "      <td>0</td>\n",
       "      <td>0</td>\n",
       "      <td>0</td>\n",
       "      <td>1</td>\n",
       "      <td>0</td>\n",
       "      <td>0</td>\n",
       "      <td>0</td>\n",
       "      <td>1</td>\n",
       "      <td>1</td>\n",
       "      <td>...</td>\n",
       "      <td>0</td>\n",
       "      <td>1</td>\n",
       "      <td>0</td>\n",
       "      <td>0</td>\n",
       "      <td>0</td>\n",
       "      <td>0</td>\n",
       "      <td>1</td>\n",
       "      <td>0</td>\n",
       "      <td>1</td>\n",
       "      <td>0</td>\n",
       "    </tr>\n",
       "    <tr>\n",
       "      <th>1</th>\n",
       "      <td>0</td>\n",
       "      <td>0</td>\n",
       "      <td>0</td>\n",
       "      <td>0</td>\n",
       "      <td>1</td>\n",
       "      <td>0</td>\n",
       "      <td>0</td>\n",
       "      <td>0</td>\n",
       "      <td>1</td>\n",
       "      <td>1</td>\n",
       "      <td>...</td>\n",
       "      <td>0</td>\n",
       "      <td>1</td>\n",
       "      <td>0</td>\n",
       "      <td>0</td>\n",
       "      <td>0</td>\n",
       "      <td>0</td>\n",
       "      <td>1</td>\n",
       "      <td>0</td>\n",
       "      <td>0</td>\n",
       "      <td>1</td>\n",
       "    </tr>\n",
       "    <tr>\n",
       "      <th>2</th>\n",
       "      <td>0</td>\n",
       "      <td>0</td>\n",
       "      <td>0</td>\n",
       "      <td>0</td>\n",
       "      <td>1</td>\n",
       "      <td>0</td>\n",
       "      <td>0</td>\n",
       "      <td>0</td>\n",
       "      <td>1</td>\n",
       "      <td>1</td>\n",
       "      <td>...</td>\n",
       "      <td>0</td>\n",
       "      <td>1</td>\n",
       "      <td>0</td>\n",
       "      <td>0</td>\n",
       "      <td>0</td>\n",
       "      <td>0</td>\n",
       "      <td>1</td>\n",
       "      <td>1</td>\n",
       "      <td>0</td>\n",
       "      <td>0</td>\n",
       "    </tr>\n",
       "    <tr>\n",
       "      <th>3</th>\n",
       "      <td>0</td>\n",
       "      <td>0</td>\n",
       "      <td>0</td>\n",
       "      <td>0</td>\n",
       "      <td>1</td>\n",
       "      <td>0</td>\n",
       "      <td>0</td>\n",
       "      <td>0</td>\n",
       "      <td>1</td>\n",
       "      <td>1</td>\n",
       "      <td>...</td>\n",
       "      <td>0</td>\n",
       "      <td>1</td>\n",
       "      <td>0</td>\n",
       "      <td>0</td>\n",
       "      <td>0</td>\n",
       "      <td>1</td>\n",
       "      <td>0</td>\n",
       "      <td>0</td>\n",
       "      <td>1</td>\n",
       "      <td>0</td>\n",
       "    </tr>\n",
       "    <tr>\n",
       "      <th>4</th>\n",
       "      <td>0</td>\n",
       "      <td>0</td>\n",
       "      <td>0</td>\n",
       "      <td>0</td>\n",
       "      <td>1</td>\n",
       "      <td>0</td>\n",
       "      <td>0</td>\n",
       "      <td>0</td>\n",
       "      <td>1</td>\n",
       "      <td>1</td>\n",
       "      <td>...</td>\n",
       "      <td>0</td>\n",
       "      <td>1</td>\n",
       "      <td>0</td>\n",
       "      <td>0</td>\n",
       "      <td>0</td>\n",
       "      <td>1</td>\n",
       "      <td>0</td>\n",
       "      <td>0</td>\n",
       "      <td>0</td>\n",
       "      <td>1</td>\n",
       "    </tr>\n",
       "  </tbody>\n",
       "</table>\n",
       "<p>5 rows × 22 columns</p>\n",
       "</div>"
      ],
      "text/plain": [
       "   target  buying_high  buying_low  buying_med  buying_vhigh  maint_high  \\\n",
       "0       0            0           0           0             1           0   \n",
       "1       0            0           0           0             1           0   \n",
       "2       0            0           0           0             1           0   \n",
       "3       0            0           0           0             1           0   \n",
       "4       0            0           0           0             1           0   \n",
       "\n",
       "   maint_low  maint_med  maint_vhigh  doors_2  ...  doors_5more  persons_2  \\\n",
       "0          0          0            1        1  ...            0          1   \n",
       "1          0          0            1        1  ...            0          1   \n",
       "2          0          0            1        1  ...            0          1   \n",
       "3          0          0            1        1  ...            0          1   \n",
       "4          0          0            1        1  ...            0          1   \n",
       "\n",
       "   persons_4  persons_more  lug_boot_big  lug_boot_med  lug_boot_small  \\\n",
       "0          0             0             0             0               1   \n",
       "1          0             0             0             0               1   \n",
       "2          0             0             0             0               1   \n",
       "3          0             0             0             1               0   \n",
       "4          0             0             0             1               0   \n",
       "\n",
       "   safety_high  safety_low  safety_med  \n",
       "0            0           1           0  \n",
       "1            0           0           1  \n",
       "2            1           0           0  \n",
       "3            0           1           0  \n",
       "4            0           0           1  \n",
       "\n",
       "[5 rows x 22 columns]"
      ]
     },
     "execution_count": 12,
     "metadata": {},
     "output_type": "execute_result"
    }
   ],
   "source": [
    "# Categorize the target \n",
    "cleanup_target = {\"target\":     {\"unacc\": 0, \"acc\": 1, \"good\": 2, \"vgood\":3}}\n",
    "car_df = car_df.replace(cleanup_target)\n",
    "car_df.head()"
   ]
  },
  {
   "cell_type": "code",
   "execution_count": 13,
   "id": "c9621377",
   "metadata": {},
   "outputs": [],
   "source": [
    "# Put the target values in y and the feature vectors in X\n",
    "y = car_df['target'] \n",
    "X = car_df.drop('target', axis=1) # features are all the columns except the \"target\" column "
   ]
  },
  {
   "cell_type": "markdown",
   "id": "cbdacb92",
   "metadata": {},
   "source": [
    "## Now the data is ready to be used for training: "
   ]
  },
  {
   "cell_type": "markdown",
   "id": "1bcdab54",
   "metadata": {},
   "source": [
    "Define a method that can split the data into train/validate/test for cross-validation"
   ]
  },
  {
   "cell_type": "code",
   "execution_count": 14,
   "id": "ebab0fcf",
   "metadata": {},
   "outputs": [],
   "source": [
    "def train_valid_test_split (X, y, train_size=0.75):\n",
    "    \"\"\"Inputs:\n",
    "    the features: X, \n",
    "    the target: y, \n",
    "    train_size: % of data \n",
    "     Returns:\n",
    "     X_train, y_train, X_valid, y_valid, X_test, y_test\n",
    "    \"\"\"\n",
    "    \n",
    "    # In the first step we will split the data in training and remaining dataset\n",
    "    X_train, X_rem, y_train, y_rem = train_test_split(X,y, train_size=train_size)\n",
    "    # Now since we want the valid and test size to be equal (10% each of overall data). \n",
    "    # we have to define valid_size=0.5 (that is 50% of remaining data)\n",
    "    test_size = 0.5\n",
    "    X_valid, X_test, y_valid, y_test = train_test_split(X_rem,y_rem, test_size=0.5)\n",
    "    \n",
    "    # Uncomment this for debugging\n",
    "    print(X_train.shape)\n",
    "    print(y_train.shape)\n",
    "    print(X_valid.shape)\n",
    "    print(y_valid.shape)\n",
    "    print(X_test.shape)\n",
    "    print(y_test.shape)\n",
    "    \n",
    "    return X_train, y_train, X_valid, y_valid, X_test, y_test"
   ]
  },
  {
   "cell_type": "markdown",
   "id": "b004cab2",
   "metadata": {},
   "source": [
    "Make sure to set the random number seed to 0 in general, for every assignment. \n",
    "This ensures consistent behavior each time the code is run."
   ]
  },
  {
   "cell_type": "code",
   "execution_count": 15,
   "id": "034e8a68",
   "metadata": {},
   "outputs": [],
   "source": [
    "# 1-  Use numpy library to set the seed to 0:\n",
    "np.random.seed(0)"
   ]
  },
  {
   "cell_type": "markdown",
   "id": "213cfab8",
   "metadata": {},
   "source": [
    "In cross-validation, we use:\n",
    "\n",
    "(a) train data: to train the model\n",
    "\n",
    "(b) validate data: to tune the hyper parameters and choose the best parameters. In KNN, it is k.\n",
    "\n",
    "(c) test data: to test the model with the chosen tuned parameter.\n"
   ]
  },
  {
   "cell_type": "code",
   "execution_count": 16,
   "id": "8b1a2a19",
   "metadata": {},
   "outputs": [
    {
     "name": "stdout",
     "output_type": "stream",
     "text": [
      "(1296, 21)\n",
      "(1296,)\n",
      "(216, 21)\n",
      "(216,)\n",
      "(216, 21)\n",
      "(216,)\n"
     ]
    }
   ],
   "source": [
    "# 2-  In order to split the data into train/validate/test. Use the predefined \"train_valid_test_split\" to split data into 75% train and the rest is validate and test \n",
    "\n",
    "X_train, y_train, X_valid, y_valid, X_test, y_test = train_valid_test_split(X, y, 0.75) #Complete the code"
   ]
  },
  {
   "cell_type": "markdown",
   "id": "1e4e957d",
   "metadata": {},
   "source": [
    " Consider k = 1,3,5,...,23. For each k, report the training and validation accuracy. \n",
    "Identify the k with the highest validation accuracy, and report the test accuracy with this choice of k.\n",
    "Note: if multiple values of k result in the highest validation accuracy, then report test accuracies for all such values of k.     "
   ]
  },
  {
   "cell_type": "code",
   "execution_count": 17,
   "id": "85e9b31e",
   "metadata": {},
   "outputs": [
    {
     "name": "stdout",
     "output_type": "stream",
     "text": [
      "k \t train \t\t\t validate\t\t test\n",
      "1 \t 1.0 \t 0.7546296296296297 \t 0.7546296296296297\n",
      "3 \t 0.9197530864197531 \t 0.8009259259259259 \t 0.7777777777777778\n",
      "5 \t 0.9282407407407407 \t 0.8703703703703703 \t 0.8703703703703703\n",
      "7 \t 0.9359567901234568 \t 0.8981481481481481 \t 0.8842592592592593\n",
      "9 \t 0.9421296296296297 \t 0.9027777777777778 \t 0.875\n",
      "11 \t 0.9498456790123457 \t 0.9027777777777778 \t 0.9074074074074074\n",
      "13 \t 0.9382716049382716 \t 0.8796296296296297 \t 0.8657407407407407\n",
      "15 \t 0.9313271604938271 \t 0.8518518518518519 \t 0.8564814814814815\n",
      "17 \t 0.9182098765432098 \t 0.8379629629629629 \t 0.8379629629629629\n",
      "19 \t 0.9074074074074074 \t 0.8287037037037037 \t 0.8472222222222222\n",
      "21 \t 0.9012345679012346 \t 0.8101851851851852 \t 0.8518518518518519\n",
      "23 \t 0.8858024691358025 \t 0.8148148148148148 \t 0.8287037037037037\n",
      "\n",
      "\n",
      "There are multiple best k: \n",
      "\n",
      "The best k is  9  with a score of  0.9027777777777778\n",
      "The best k is  11  with a score of  0.9027777777777778\n"
     ]
    }
   ],
   "source": [
    "# 3- Use \"KNeighborsClassifier\" from sklearn to create a KNN model for the following k values: k = 1; 3; 5; ... ; 23.\n",
    "\n",
    "scoresVal = []\n",
    "scoresK = []\n",
    "\n",
    "print(\"k\", '\\t', \"train\", \"\\t\\t\\t\", \"validate\" \"\\t\\t\", \"test\")\n",
    "for k in range (1, 23+1, 2): \n",
    "    # Complete the for loop\n",
    "    neigh = KNeighborsClassifier(n_neighbors = k)\n",
    "    neigh.fit(X_train,y_train)\n",
    "    \n",
    "    y_expTrain = neigh.predict(X_train)\n",
    "    y_expValid = neigh.predict(X_valid)\n",
    "    y_expTest = neigh.predict(X_test)\n",
    "    \n",
    "    # Use \"accuracy_score\" to find the accuracy of the prediction on the training data/validate data/test data.\n",
    "    scoreTrainEx = accuracy_score(y_train, y_expTrain)\n",
    "    scoreValidEx = accuracy_score(y_valid, y_expValid)\n",
    "    scoreTestEx = accuracy_score(y_test, y_expTest)\n",
    "    \n",
    "    scoresVal.append(scoreValidEx)\n",
    "    scoresK.append(k)\n",
    "    \n",
    "    # print the accuracy score for all the k on the prediction of the training data and the validate data. \n",
    "    print(k, '\\t', scoreTrainEx,'\\t', scoreValidEx, '\\t', scoreTestEx)\n",
    "    \n",
    "\n",
    "# 4- Determine and print the best k that gives the best accuracy for your validate data and report the test accuracy with this choice of k\n",
    "# Note: if multiple values of k result in the highest validation accuracy, then report test accuracies for all such values of k.\n",
    "\n",
    "print('\\n')\n",
    "bestScore = max(scoresVal)\n",
    "\n",
    "count = 0\n",
    "for vals in scoresVal:\n",
    "    if (bestScore == vals):\n",
    "        count = count + 1\n",
    "        \n",
    "if count == 1:\n",
    "    print(\"The best k is \", scoresK[scoresVal.index(bestScore)] , \" with a score of \", bestScore)\n",
    "    \n",
    "elif count > 1:\n",
    "    print(\"There are multiple best k:\", '\\n')\n",
    "    for i in range(0, len(scoresVal), 1):\n",
    "        if scoresVal[i] == bestScore:\n",
    "            print(\"The best k is \", scoresK[i] , \" with a score of \", bestScore)\n",
    "        \n",
    "    \n",
    "    \n",
    "    \n",
    "        \n",
    "        \n",
    "    \n",
    "    \n"
   ]
  }
 ],
 "metadata": {
  "kernelspec": {
   "display_name": "Python 3 (ipykernel)",
   "language": "python",
   "name": "python3"
  },
  "language_info": {
   "codemirror_mode": {
    "name": "ipython",
    "version": 3
   },
   "file_extension": ".py",
   "mimetype": "text/x-python",
   "name": "python",
   "nbconvert_exporter": "python",
   "pygments_lexer": "ipython3",
   "version": "3.9.12"
  }
 },
 "nbformat": 4,
 "nbformat_minor": 5
}
